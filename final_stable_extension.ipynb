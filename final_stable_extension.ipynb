{
 "cells": [
  {
   "cell_type": "code",
   "execution_count": 1,
   "metadata": {},
   "outputs": [
    {
     "name": "stdout",
     "output_type": "stream",
     "text": [
      "Arguments and Attacks are as follows :  ({'b', 'd', 'c', 'a'}, {('a', 'b'), ('a', 'c'), ('c', 'd'), ('b', 'c'), ('b', 'a')})\n"
     ]
    }
   ],
   "source": [
    "import sys\n",
    "import itertools\n",
    "from parser_abstract import read_file\n",
    "\n",
    "af=read_file(\"trial4.aaf\")\n",
    "\n",
    "argument = af[0]\n",
    "relations = af[1]\n",
    "\n",
    "print(\"Arguments and Attacks are as follows : \", af)"
   ]
  },
  {
   "cell_type": "code",
   "execution_count": 2,
   "metadata": {},
   "outputs": [
    {
     "name": "stdout",
     "output_type": "stream",
     "text": [
      "{'b', 'd', 'c', 'a'}\n",
      "{('a', 'b'), ('a', 'c'), ('c', 'd'), ('b', 'c'), ('b', 'a')}\n"
     ]
    }
   ],
   "source": [
    "print(argument)\n",
    "print(relations)"
   ]
  },
  {
   "cell_type": "code",
   "execution_count": 3,
   "metadata": {},
   "outputs": [
    {
     "name": "stdout",
     "output_type": "stream",
     "text": [
      "['a', 'b', 'c', 'd']\n"
     ]
    }
   ],
   "source": [
    "arg = list(argument)\n",
    "arg = sorted(arg)\n",
    "print(arg)"
   ]
  },
  {
   "cell_type": "code",
   "execution_count": 4,
   "metadata": {},
   "outputs": [
    {
     "name": "stdout",
     "output_type": "stream",
     "text": [
      "length is : 5\n"
     ]
    }
   ],
   "source": [
    "len_rel = len(relations)\n",
    "print(\"length is :\", len_rel)"
   ]
  },
  {
   "cell_type": "code",
   "execution_count": 5,
   "metadata": {},
   "outputs": [
    {
     "data": {
      "text/plain": [
       "[['a', 'b'], ['a', 'c'], ['c', 'd'], ['b', 'c'], ['b', 'a']]"
      ]
     },
     "execution_count": 5,
     "metadata": {},
     "output_type": "execute_result"
    }
   ],
   "source": [
    "attacks = []\n",
    "\n",
    "for i in relations:\n",
    "    attacks.append(list(i))\n",
    "\n",
    "attacks"
   ]
  },
  {
   "cell_type": "code",
   "execution_count": 6,
   "metadata": {},
   "outputs": [],
   "source": [
    "def get_subset(arg, n):\n",
    "    return [set(i) for i in itertools.combinations(arg, n)]\n",
    "\n",
    "subsets = []\n",
    "sub = []\n",
    "len_arg = len(argument)\n",
    "\n",
    "for i in range(1, len_arg):\n",
    "    subsets.append(get_subset(argument,i))"
   ]
  },
  {
   "cell_type": "code",
   "execution_count": 7,
   "metadata": {},
   "outputs": [
    {
     "data": {
      "text/plain": [
       "[[{'b'}, {'d'}, {'c'}, {'a'}],\n",
       " [{'b', 'd'}, {'b', 'c'}, {'a', 'b'}, {'c', 'd'}, {'a', 'd'}, {'a', 'c'}],\n",
       " [{'b', 'c', 'd'}, {'a', 'b', 'd'}, {'a', 'b', 'c'}, {'a', 'c', 'd'}]]"
      ]
     },
     "execution_count": 7,
     "metadata": {},
     "output_type": "execute_result"
    }
   ],
   "source": [
    "subsets"
   ]
  },
  {
   "cell_type": "code",
   "execution_count": 8,
   "metadata": {},
   "outputs": [
    {
     "data": {
      "text/plain": [
       "[{'b'},\n",
       " {'d'},\n",
       " {'c'},\n",
       " {'a'},\n",
       " {'b', 'd'},\n",
       " {'b', 'c'},\n",
       " {'a', 'b'},\n",
       " {'c', 'd'},\n",
       " {'a', 'd'},\n",
       " {'a', 'c'},\n",
       " {'b', 'c', 'd'},\n",
       " {'a', 'b', 'd'},\n",
       " {'a', 'b', 'c'},\n",
       " {'a', 'c', 'd'}]"
      ]
     },
     "execution_count": 8,
     "metadata": {},
     "output_type": "execute_result"
    }
   ],
   "source": [
    "for i in subsets:\n",
    "    sub.extend(i)\n",
    "    \n",
    "sub"
   ]
  },
  {
   "cell_type": "code",
   "execution_count": 9,
   "metadata": {},
   "outputs": [],
   "source": [
    "sub1 = []\n",
    "for i in sub:\n",
    "    sub1.append(list(i))"
   ]
  },
  {
   "cell_type": "code",
   "execution_count": 10,
   "metadata": {},
   "outputs": [
    {
     "name": "stdout",
     "output_type": "stream",
     "text": [
      "[['b'], ['d'], ['c'], ['a'], ['b', 'd'], ['b', 'c'], ['b', 'a'], ['c', 'd'], ['d', 'a'], ['c', 'a'], ['b', 'd', 'c'], ['b', 'd', 'a'], ['b', 'c', 'a'], ['c', 'd', 'a']]\n"
     ]
    }
   ],
   "source": [
    "print(sub1)"
   ]
  },
  {
   "cell_type": "markdown",
   "metadata": {},
   "source": [
    "# Start of Program"
   ]
  },
  {
   "cell_type": "code",
   "execution_count": 11,
   "metadata": {},
   "outputs": [],
   "source": [
    "conflict_free = []\n",
    "#def check_conflict(list1,list2):\n",
    "    "
   ]
  },
  {
   "cell_type": "code",
   "execution_count": 12,
   "metadata": {},
   "outputs": [
    {
     "name": "stdout",
     "output_type": "stream",
     "text": [
      "conflict free arguments are : [['b'], ['d'], ['c'], ['a'], ['b', 'd'], ['b', 'c'], ['c', 'd'], ['a', 'd'], ['a', 'c'], ['b', 'c', 'd'], ['a', 'b', 'd'], ['a', 'b', 'c'], ['a', 'c', 'd'], ['a', 'b']]\n",
      "dustbin2 : [['a', 'b', 'd'], ['a', 'b', 'c'], ['a', 'b'], ['a', 'c'], ['a', 'b', 'c'], ['a', 'c', 'd'], ['c', 'd'], ['b', 'c', 'd'], ['a', 'c', 'd'], ['b', 'c'], ['b', 'c', 'd'], ['a', 'b', 'c'], ['a', 'b', 'd'], ['a', 'b', 'c'], ['a', 'b']]\n"
     ]
    }
   ],
   "source": [
    "#Conflic free Arguments : ****************\n",
    "list1 = []  #attack list attacks #### just for non conflict arguments\n",
    "list2 = []  #subset list sub1 (sorted list of subsets)\n",
    "dustbin = []\n",
    "for i in sub1:\n",
    "    list2.append(sorted(i))\n",
    "for i in attacks:\n",
    "    list1.append(sorted(i))\n",
    "    \n",
    "    \n",
    "for i in list1:\n",
    "    for j in list2:\n",
    "        if(i == j):\n",
    "            #print(\"a : \", i, \"b : \", j)\n",
    "            dustbin.append(j)\n",
    "        elif(j not in conflict_free):\n",
    "            conflict_free.append(j)\n",
    "\n",
    "\n",
    "print(\"conflict free arguments are :\", conflict_free)\n",
    "dustbin2 = []\n",
    "for i in list1:\n",
    "    for j in conflict_free:\n",
    "        result= all(elem in j for elem in i)\n",
    "        \n",
    "        if result:\n",
    "            dustbin2.append(j)\n",
    "print(\"dustbin2 :\", dustbin2)    "
   ]
  },
  {
   "cell_type": "code",
   "execution_count": 13,
   "metadata": {},
   "outputs": [
    {
     "data": {
      "text/plain": [
       "[['a', 'b'], ['a', 'c'], ['c', 'd'], ['b', 'c'], ['a', 'b']]"
      ]
     },
     "execution_count": 13,
     "metadata": {},
     "output_type": "execute_result"
    }
   ],
   "source": [
    "dustbin"
   ]
  },
  {
   "cell_type": "code",
   "execution_count": 14,
   "metadata": {},
   "outputs": [
    {
     "data": {
      "text/plain": [
       "[['b'], ['d'], ['c'], ['a'], ['b', 'd'], ['a', 'd']]"
      ]
     },
     "execution_count": 14,
     "metadata": {},
     "output_type": "execute_result"
    }
   ],
   "source": [
    "for i in dustbin:\n",
    "    for j in conflict_free:\n",
    "        if(i==j):\n",
    "            conflict_free.remove(j)\n",
    "    \n",
    "for i in dustbin2:\n",
    "    for j in conflict_free:\n",
    "        if(i==j):\n",
    "            conflict_free.remove(j)\n",
    "    \n",
    "\n",
    "conflict_free"
   ]
  },
  {
   "cell_type": "code",
   "execution_count": 15,
   "metadata": {},
   "outputs": [
    {
     "name": "stdout",
     "output_type": "stream",
     "text": [
      "List1 :  [['a', 'b'], ['a', 'c'], ['c', 'd'], ['b', 'c'], ['a', 'b']]\n",
      "List2 :  [['b'], ['d'], ['c'], ['a'], ['b', 'd'], ['b', 'c'], ['a', 'b'], ['c', 'd'], ['a', 'd'], ['a', 'c'], ['b', 'c', 'd'], ['a', 'b', 'd'], ['a', 'b', 'c'], ['a', 'c', 'd']]\n"
     ]
    }
   ],
   "source": [
    "print(\"List1 : \",list1)\n",
    "print(\"List2 : \",list2)"
   ]
  },
  {
   "cell_type": "markdown",
   "metadata": {},
   "source": [
    "#  Stable extension"
   ]
  },
  {
   "cell_type": "code",
   "execution_count": 21,
   "metadata": {},
   "outputs": [
    {
     "name": "stdout",
     "output_type": "stream",
     "text": [
      "['b']\n"
     ]
    },
    {
     "ename": "ValueError",
     "evalue": "list.remove(x): x not in list",
     "output_type": "error",
     "traceback": [
      "\u001b[1;31m---------------------------------------------------------------------------\u001b[0m",
      "\u001b[1;31mValueError\u001b[0m                                Traceback (most recent call last)",
      "\u001b[1;32m<ipython-input-21-9e6c39b2e87b>\u001b[0m in \u001b[0;36m<module>\u001b[1;34m\u001b[0m\n\u001b[0;32m      7\u001b[0m     \u001b[0mtemp_len\u001b[0m \u001b[1;33m=\u001b[0m \u001b[0mlen\u001b[0m\u001b[1;33m(\u001b[0m\u001b[0mconflict_free\u001b[0m\u001b[1;33m[\u001b[0m\u001b[0mi\u001b[0m\u001b[1;33m]\u001b[0m\u001b[1;33m)\u001b[0m\u001b[1;33m\u001b[0m\u001b[1;33m\u001b[0m\u001b[0m\n\u001b[0;32m      8\u001b[0m     \u001b[1;32mfor\u001b[0m \u001b[0mj\u001b[0m \u001b[1;32min\u001b[0m \u001b[0mconflict_free\u001b[0m\u001b[1;33m[\u001b[0m\u001b[0mi\u001b[0m\u001b[1;33m]\u001b[0m\u001b[1;33m:\u001b[0m\u001b[1;33m\u001b[0m\u001b[1;33m\u001b[0m\u001b[0m\n\u001b[1;32m----> 9\u001b[1;33m         \u001b[0mag\u001b[0m\u001b[1;33m.\u001b[0m\u001b[0mremove\u001b[0m\u001b[1;33m(\u001b[0m\u001b[0mj\u001b[0m\u001b[1;33m)\u001b[0m\u001b[1;33m\u001b[0m\u001b[1;33m\u001b[0m\u001b[0m\n\u001b[0m\u001b[0;32m     10\u001b[0m     \u001b[0mprint\u001b[0m\u001b[1;33m(\u001b[0m\u001b[0mtemp_len\u001b[0m\u001b[1;33m,\u001b[0m\u001b[0mag\u001b[0m\u001b[1;33m)\u001b[0m\u001b[1;33m\u001b[0m\u001b[1;33m\u001b[0m\u001b[0m\n",
      "\u001b[1;31mValueError\u001b[0m: list.remove(x): x not in list"
     ]
    }
   ],
   "source": [
    "ag=arg\n",
    "i=0\n",
    "len_con = len(conflict_free)\n",
    "\n",
    "while i < len_con:\n",
    "    print(conflict_free[i])\n",
    "    temp_len = len(conflict_free[i])\n",
    "    for j in conflict_free[i]:\n",
    "        ag.remove(j)\n",
    "    print(temp_len,ag)"
   ]
  },
  {
   "cell_type": "code",
   "execution_count": null,
   "metadata": {},
   "outputs": [],
   "source": [
    "for i in conflict_free:\n",
    "    print(ag)\n",
    "    for j in i:\n",
    "        if j in ag:\n",
    "            ag.remove(j)"
   ]
  }
 ],
 "metadata": {
  "kernelspec": {
   "display_name": "Python 3",
   "language": "python",
   "name": "python3"
  },
  "language_info": {
   "codemirror_mode": {
    "name": "ipython",
    "version": 3
   },
   "file_extension": ".py",
   "mimetype": "text/x-python",
   "name": "python",
   "nbconvert_exporter": "python",
   "pygments_lexer": "ipython3",
   "version": "3.7.4"
  }
 },
 "nbformat": 4,
 "nbformat_minor": 2
}
